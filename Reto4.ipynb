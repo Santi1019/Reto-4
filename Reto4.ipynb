{
 "cells": [
  {
   "cell_type": "code",
   "execution_count": 4,
   "metadata": {},
   "outputs": [
    {
     "name": "stdout",
     "output_type": "stream",
     "text": [
      "El código ASCCI corresponde al de una vocal minuscula\n"
     ]
    }
   ],
   "source": [
    "#1.\n",
    "numero=int(input(\"Ingrese un numero entero: \"))\n",
    "\n",
    "aski = chr(numero)\n",
    "\n",
    "if aski in \"a,e,i,o,u\": #Verifica si el numero ingresado es igual al que python usa para dar las vocales en minuscula\n",
    "    print(\"El código ASCII corresponde al de una vocal minuscula\")\n",
    "else:\n",
    "    print(\"El numero proporcionado  no corresponde al código ASCII de ninguna vocal minuscula \")"
   ]
  },
  {
   "cell_type": "code",
   "execution_count": 12,
   "metadata": {},
   "outputs": [
    {
     "name": "stdout",
     "output_type": "stream",
     "text": [
      "El código ASCII dela primer letra no es par\n"
     ]
    }
   ],
   "source": [
    "cadena = input(\"Ingrese su cadena: \")\n",
    "primer_letra = cadena[0] #Uso indexación para acceder unicamente al primer caracter de la cadena \n",
    "aski = ord(primer_letra) \n",
    "if aski % 2 == 0:\n",
    "    print(\"El codigo ASCII de la primer letra de la cadena es par\")\n",
    "else:\n",
    "    print(\"El código ASCII dela primer letra no es par\")\n",
    "\n"
   ]
  },
  {
   "cell_type": "code",
   "execution_count": 20,
   "metadata": {},
   "outputs": [
    {
     "name": "stdout",
     "output_type": "stream",
     "text": [
      "El caracter no es digito\n"
     ]
    }
   ],
   "source": [
    "caracter = input(\"Ingrese algo xd: \") \n",
    "a = ord(caracter)\n",
    "if 48<= a <= 57: #En la lista de codigos ASCII los digitos se encuentran en ese rango de numeros\n",
    "    print(\"El caracter es un digito\")\n",
    "else:\n",
    "    print(\"El caracter no es digito\")         "
   ]
  },
  {
   "cell_type": "code",
   "execution_count": 16,
   "metadata": {},
   "outputs": [
    {
     "name": "stdout",
     "output_type": "stream",
     "text": [
      "El numero x es positivo\n"
     ]
    }
   ],
   "source": [
    "x = int(input(\"Ingrese un numero: \"))\n",
    "\n",
    "if x>0:\n",
    "    print(\"El numero x es positivo\")\n",
    "elif x==0:\n",
    "    print(\"El numero x es el neutro para la suma\")\n",
    "else:\n",
    "\n",
    "    print(\"El numero x es negativo\")\n"
   ]
  },
  {
   "cell_type": "code",
   "execution_count": 17,
   "metadata": {},
   "outputs": [
    {
     "name": "stdout",
     "output_type": "stream",
     "text": [
      "R2 está dentro del circulo\n"
     ]
    }
   ],
   "source": [
    "radio = int(input(\"Ingrese el raido del circulo\"))\n",
    "pi: float=3.1416\n",
    "\n",
    "circunferencuia= 2*pi*radio\n",
    "R2 = int(input(\"Ingrese el numero R2: \"))\n",
    "if 0<= R2<= circunferencuia:\n",
    "    print(\"R2 está dentro del circulo\")\n",
    "else: \n",
    "    print(\"El punto R2 no está en la circunferencia\")\n",
    "\n"
   ]
  },
  {
   "cell_type": "code",
   "execution_count": 21,
   "metadata": {},
   "outputs": [
    {
     "name": "stdout",
     "output_type": "stream",
     "text": [
      "Se puede construir un triangulo con esas longitudes\n"
     ]
    }
   ],
   "source": [
    "#Recirdando la desigualdad triangular\n",
    "\n",
    "a = int(input(\"Ingrese una longitud: \"))\n",
    "b= int(input(\"Ingrese una longitud: \"))\n",
    "c = int(input(\"Ingrese una longitud: \"))\n",
    "\n",
    "if a+b > c:\n",
    "    print(\"Se puede construir un triangulo con esas longitudes\")\n",
    "elif a+c >b:\n",
    "    print(\"Se puede construir un triangulo con esas longitudes\")\n",
    "elif b+c> a:\n",
    "    print(\"Se puede construir un triangulo con esas longitudes\")\n",
    "\n",
    "else: \n",
    "    print(\"No se puede construir un triangulo con esa longitudes\")\n",
    "\n",
    "\n",
    "\n"
   ]
  }
 ],
 "metadata": {
  "kernelspec": {
   "display_name": "Python 3",
   "language": "python",
   "name": "python3"
  },
  "language_info": {
   "codemirror_mode": {
    "name": "ipython",
    "version": 3
   },
   "file_extension": ".py",
   "mimetype": "text/x-python",
   "name": "python",
   "nbconvert_exporter": "python",
   "pygments_lexer": "ipython3",
   "version": "3.11.6"
  }
 },
 "nbformat": 4,
 "nbformat_minor": 2
}
